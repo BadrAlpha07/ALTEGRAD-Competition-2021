{
 "cells": [
  {
   "cell_type": "code",
   "execution_count": 4,
   "metadata": {
    "id": "AXr37O4qNNM6"
   },
   "outputs": [],
   "source": [
    "import numpy as np\n",
    "import networkx as nx\n",
    "from tqdm import tqdm\n",
    "from utils.deepwalk import deepwalk\n",
    "path = './data/'"
   ]
  },
  {
   "cell_type": "markdown",
   "metadata": {
    "id": "-l7rXQ7nUKNo"
   },
   "source": [
    "# Node Embedding using Deep Walk"
   ]
  },
  {
   "cell_type": "code",
   "execution_count": null,
   "metadata": {
    "id": "b4PkwH9tVtKG"
   },
   "outputs": [],
   "source": [
    "# load the authors papers dictionary\n",
    "author_paper = np.load(path+'author_paper.npy',allow_pickle='TRUE').item()\n",
    "# load the graph    \n",
    "G = nx.read_edgelist(path+'collaboration_network.edgelist', delimiter=' ', nodetype=int)\n",
    "n_nodes = G.number_of_nodes()\n",
    "n_edges = G.number_of_edges()"
   ]
  },
  {
   "cell_type": "code",
   "execution_count": null,
   "metadata": {
    "colab": {
     "base_uri": "https://localhost:8080/"
    },
    "id": "wRw6WrQWXDTY",
    "outputId": "e25fbcb1-ac05-4ea6-e725-dd95c2775ed7"
   },
   "outputs": [
    {
     "name": "stderr",
     "output_type": "stream",
     "text": [
      "100%|██████████| 1777338/1777338 [00:09<00:00, 178748.13it/s]\n"
     ]
    }
   ],
   "source": [
    "# Generate the weights of the graph:  each weight defines the number of papers in which 2 authors co-authored.\n",
    "G_weigthed = G.copy()\n",
    "for i,edge in enumerate(tqdm(list(G.edges))):\n",
    "    source,target = edge\n",
    "    paper_author_1 = author_paper[str(int(source))]\n",
    "    paper_author_2 = author_paper[str(int(target))]\n",
    "    count = len(list(set(paper_author_1).intersection(set(paper_author_2))))\n",
    "    if count>0:\n",
    "        G_weigthed[source][target]['weight'] = count\n",
    "    else: \n",
    "        # We note that there are some edges between authors without having any common papers Id in the author_papers.txt.\n",
    "        G_weigthed[source][target]['weight'] = 1 "
   ]
  },
  {
   "cell_type": "code",
   "execution_count": null,
   "metadata": {
    "id": "xgSQAfqrUFXh"
   },
   "outputs": [],
   "source": [
    "n_dim = 256\n",
    "n_walks = 10\n",
    "walk_length = 20\n",
    "weighted  = False #if True, our deep walk algorithm considers a weighted graph \n",
    "\n",
    "if weighted == True:\n",
    "    model = deepwalk(G_weigthed, n_walks, walk_length, n_dim,weighted=True)\n",
    "else:\n",
    "    model = deepwalk(G, n_walks, walk_length, n_dim,weighted=False)\n",
    "#Compute the node embedding:\n",
    "embeddings = np.zeros((n_nodes, n_dim +1))\n",
    "for i, node in enumerate(G.nodes()):\n",
    "    embeddings[i,0] = str(node)\n",
    "    embeddings[i,1:] = model.wv[str(node)]\n",
    "#Save the node embedding:\n",
    "pd.DataFrame(embeddings).to_csv(path+'node_embd_DW_Weighted_256.csv',index=False)"
   ]
  }
 ],
 "metadata": {
  "colab": {
   "collapsed_sections": [],
   "name": "Node embedding",
   "provenance": []
  },
  "kernelspec": {
   "display_name": "Python 3",
   "language": "python",
   "name": "python3"
  },
  "language_info": {
   "codemirror_mode": {
    "name": "ipython",
    "version": 3
   },
   "file_extension": ".py",
   "mimetype": "text/x-python",
   "name": "python",
   "nbconvert_exporter": "python",
   "pygments_lexer": "ipython3",
   "version": "3.7.9"
  }
 },
 "nbformat": 4,
 "nbformat_minor": 1
}
