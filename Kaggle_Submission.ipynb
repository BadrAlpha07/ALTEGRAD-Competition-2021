{
 "cells": [
  {
   "cell_type": "code",
   "execution_count": 2,
   "metadata": {
    "id": "gjLrJjajUMfq"
   },
   "outputs": [],
   "source": [
    "#!pip install catboost\n",
    "import pandas as pd\n",
    "import numpy as np\n",
    "import networkx as nx\n",
    "from tqdm import tqdm\n",
    "from sklearn.model_selection import train_test_split\n",
    "\n",
    "import xgboost as xgb\n",
    "from sklearn.metrics import mean_absolute_error as mae\n",
    "import lightgbm as lgb\n",
    "import catboost as cat\n",
    "\n",
    "from utils.Stacking_regressor import Stacking_regressor\n",
    "from utils.embedding_PCA import pca_node_embedding, pca_author_embedding\n",
    "path = \"/data/\""
   ]
  },
  {
   "cell_type": "code",
   "execution_count": 3,
   "metadata": {
    "id": "XldE-FRknpRv"
   },
   "outputs": [],
   "source": [
    "def base_models():\n",
    "    lgb_reg = lgb.LGBMRegressor(boosting_type='dart',  n_estimators=2500,num_leaves=27, max_depth=-1, learning_rate=0.2)\n",
    "    cat_reg = cat.CatBoostRegressor(boosting_type='Ordered',n_estimators=1500, max_depth=5, learning_rate=0.1)\n",
    "    xg_reg = xgb.XGBRegressor(objective= \"reg:squarederror\", n_estimators = 1500, colsample_bytree = 0.7, learning_rate = 0.1,\n",
    "                            max_depth = 5, alpha = 9, random_state = 7, ree_method=\"approx\")\n",
    "    return lgb_reg, cat_reg, xg_reg"
   ]
  },
  {
   "cell_type": "code",
   "execution_count": 4,
   "metadata": {
    "id": "UfUYuu4dUT5c"
   },
   "outputs": [],
   "source": [
    "# read training data\n",
    "df_train = pd.read_csv(path + \"train.csv\", dtype={'authorID': np.int64, 'h_index': np.float32})\n",
    "n_train = df_train.shape[0]\n",
    "\n",
    "# read test data\n",
    "df_test = pd.read_csv(path + \"test.csv\", dtype={'authorID': np.int64})\n",
    "n_test = df_test.shape[0]"
   ]
  },
  {
   "cell_type": "code",
   "execution_count": 5,
   "metadata": {
    "colab": {
     "base_uri": "https://localhost:8080/"
    },
    "id": "zmweWTJOmUdt",
    "outputId": "a1b31816-f0bf-4ed5-c6d2-b597f0f2fc96"
   },
   "outputs": [
    {
     "data": {
      "text/plain": [
       "(231239, 19)"
      ]
     },
     "execution_count": 5,
     "metadata": {
      "tags": []
     },
     "output_type": "execute_result"
    }
   ],
   "source": [
    "# Data Features\n",
    "features_df = pd.read_csv(path + \"df_features.csv\",index_col='author_id')\n",
    "features_df.drop(columns = ['auth_lang_n'], inplace = True)\n",
    "features_df.shape"
   ]
  },
  {
   "cell_type": "code",
   "execution_count": 6,
   "metadata": {
    "id": "2k9i0NPRUae0"
   },
   "outputs": [],
   "source": [
    "#Node Embedding\n",
    "df_node_emb = pd.read_csv(path + \"node_embd_DW_Weighted_256.csv\", index_col=0)  # Weithed Node Embedding\n",
    "#df_node_emb = pd.read_csv(path + \"node_embd_DW.csv\", index_col=0) # Unweithed Node Embedding\n",
    "\n",
    "# Author Emebeding\n",
    "df_auth_emb_Doc2vec = pd.read_csv(path + \"author_embedding.csv\",header = None, index_col=0) # Author Embedding with Doc2Vec\n",
    "\n",
    " #Author Emebeding\n",
    "df_auth_emb_Bert = pd.read_csv(path + \"df_auth_emb_Bert.csv\",index_col=0)# Author Embedding with SBERT"
   ]
  },
  {
   "cell_type": "code",
   "execution_count": 7,
   "metadata": {
    "colab": {
     "base_uri": "https://localhost:8080/"
    },
    "id": "zRJqydBI-bgg",
    "outputId": "a6600fa4-fc06-4ce8-bc1a-2239aa181213"
   },
   "outputs": [
    {
     "name": "stdout",
     "output_type": "stream",
     "text": [
      "0.28119939295253193\n",
      "0.4123955915736105\n"
     ]
    }
   ],
   "source": [
    "#PCA on embeddings\n",
    "df_node_emb_pca = pca_node_embedding(25, df_node_emb)\n",
    "auth_doc2vec_pca  = pca_author_embedding(64, df_auth_emb_Doc2vec)"
   ]
  },
  {
   "cell_type": "code",
   "execution_count": 8,
   "metadata": {
    "id": "oEtXunphS21L"
   },
   "outputs": [],
   "source": [
    "auth_freq_abs = np.load(path + \"auth_freq_abs.npy\",allow_pickle='TRUE').item()\n",
    "auth_freq_crps = np.load(path + \"auth_freq_crps.npy\",allow_pickle='TRUE').item()"
   ]
  },
  {
   "cell_type": "code",
   "execution_count": 9,
   "metadata": {
    "colab": {
     "base_uri": "https://localhost:8080/"
    },
    "id": "u9QIHNSsQCyZ",
    "outputId": "76a831b9-8020-41e0-d2db-029a11746fb8"
   },
   "outputs": [
    {
     "name": "stderr",
     "output_type": "stream",
     "text": [
      "23124it [01:34, 244.88it/s]\n"
     ]
    }
   ],
   "source": [
    "dim_0 = df_train.shape[0]\n",
    "f_n = features_df.shape[1]\n",
    "Doc2vec_n = auth_doc2vec_pca.shape[1]\n",
    "nod_em_n =  df_node_emb_pca.shape[1]\n",
    "Bert_n = df_auth_emb_Bert.shape[1]\n",
    "X_train = np.zeros((dim_0,f_n+4+nod_em_n+Bert_n+Doc2vec_n))\n",
    "y_train = np.zeros(dim_0)\n",
    "for i,row in tqdm(df_train.iterrows()):\n",
    "    node = row['authorID']\n",
    "    X_train[i, 0:f_n] = features_df.loc[features_df.index == node,:].values\n",
    "    if len(auth_freq_abs[str(int(node))]) != 0:\n",
    "        X_train[i, f_n:f_n+1] = np.max(auth_freq_abs[str(int(node))])\n",
    "        X_train[i, f_n+1:f_n+2] = np.mean(auth_freq_abs[str(int(node))])\n",
    "        X_train[i, f_n+2:f_n+3] = np.max(auth_freq_crps[str(int(node))])\n",
    "        X_train[i, f_n+3:f_n+4] = np.mean(auth_freq_crps[str(int(node))])\n",
    "    X_train[i, f_n+4:f_n+4+nod_em_n] = df_node_emb_pca.loc[df_node_emb_pca.index == node,:].values\n",
    "    X_train[i, f_n+4+nod_em_n:f_n+nod_em_n+4+Doc2vec_n] = auth_doc2vec_pca.loc[auth_doc2vec_pca.index == node,:].values\n",
    "    X_train[i, f_n+4+nod_em_n+Doc2vec_n:] = df_auth_emb_Bert.loc[df_auth_emb_Bert.index == node,:].values\n",
    "    y_train[i] = np.log(row['h_index']+1)"
   ]
  },
  {
   "cell_type": "code",
   "execution_count": null,
   "metadata": {
    "colab": {
     "base_uri": "https://localhost:8080/"
    },
    "id": "xPiojZAycme-",
    "outputId": "42418154-fdd5-4671-bd1b-02ae79324fb1"
   },
   "outputs": [
    {
     "name": "stderr",
     "output_type": "stream",
     "text": [
      "208115it [15:49, 219.10it/s]\n"
     ]
    }
   ],
   "source": [
    "X_test = np.zeros((n_test,f_n+4+nod_em_n+Bert_n+Doc2vec_n))\n",
    "for i,row in tqdm(df_test.iterrows()):\n",
    "    node = row['authorID']\n",
    "    X_test[i, 0:f_n] = features_df.loc[features_df.index == node,:].values\n",
    "    if len(auth_freq_abs[str(int(node))]) != 0:\n",
    "        X_test[i, f_n:f_n+1] = np.max(auth_freq_abs[str(int(node))])\n",
    "        X_test[i, f_n+1:f_n+2] = np.round(np.mean(auth_freq_abs[str(int(node))]))\n",
    "        X_test[i, f_n+2:f_n+3] = np.round(np.max(auth_freq_crps[str(int(node))]))\n",
    "        X_test[i, f_n+3:f_n+4] = np.mean(auth_freq_crps[str(int(node))])\n",
    "    X_test[i, f_n+4:f_n+4+nod_em_n] = df_node_emb_pca.loc[df_node_emb_pca.index == node,:].values\n",
    "    X_test[i, f_n+4+nod_em_n:f_n+nod_em_n+4+Doc2vec_n] = auth_doc2vec_pca.loc[auth_doc2vec_pca.index == node,:].values\n",
    "    X_test[i, f_n+4+nod_em_n+Doc2vec_n:] = df_auth_emb_Bert.loc[df_auth_emb_Bert.index == node,:].values"
   ]
  },
  {
   "cell_type": "code",
   "execution_count": null,
   "metadata": {
    "id": "-mXFV_v2b5Uy"
   },
   "outputs": [],
   "source": [
    "lgb_reg, cat_reg, xg_reg = base_models()\n",
    "regressor = Stacking_regressor(lgb_reg, cat_reg, xg_reg)\n",
    "regressor.fit(X_train, y_train)\n",
    "y_pred = regressor.predict(X_test)\n",
    "df_test['h_index_pred'].update(pd.Series(np.rint(np.expm1(y_pred))))\n",
    "df_test.loc[:,[\"authorID\",\"h_index_pred\"]].to_csv('best_kaggle_submission.csv', index=False)"
   ]
  }
 ],
 "metadata": {
  "colab": {
   "collapsed_sections": [],
   "name": "Modeling.ipynb",
   "provenance": []
  },
  "kernelspec": {
   "display_name": "Python 3",
   "language": "python",
   "name": "python3"
  },
  "language_info": {
   "codemirror_mode": {
    "name": "ipython",
    "version": 3
   },
   "file_extension": ".py",
   "mimetype": "text/x-python",
   "name": "python",
   "nbconvert_exporter": "python",
   "pygments_lexer": "ipython3",
   "version": "3.7.9"
  }
 },
 "nbformat": 4,
 "nbformat_minor": 1
}
